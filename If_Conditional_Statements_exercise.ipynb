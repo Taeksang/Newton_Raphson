{
  "nbformat": 4,
  "nbformat_minor": 0,
  "metadata": {
    "colab": {
      "provenance": [],
      "include_colab_link": true
    },
    "kernelspec": {
      "name": "python3",
      "display_name": "Python 3"
    }
  },
  "cells": [
    {
      "cell_type": "markdown",
      "metadata": {
        "id": "view-in-github",
        "colab_type": "text"
      },
      "source": [
        "<a href=\"https://colab.research.google.com/github/Taeksang/Newton_Raphson/blob/main/If_Conditional_Statements_exercise.ipynb\" target=\"_parent\"><img src=\"https://colab.research.google.com/assets/colab-badge.svg\" alt=\"Open In Colab\"/></a>"
      ]
    },
    {
      "cell_type": "markdown",
      "metadata": {
        "id": "9hgp2Z3FztJ6"
      },
      "source": [
        "# *Permission to copy this copyrighted document is given only to Mobi Boot Camp Corp., students*\n",
        "\n",
        "---\n",
        "<!-- &#169; 2021, Mobi Boot Camp Corp, all rights reserved  -->\n",
        "# Please Copy this file by selecting 'File-->Save a Copy in Drive' from the top menu bar, and then start working on these problems. You cannot edit this original file as it is a READ-ONLY file. But you can edit your own copy.\n",
        "\n",
        "###When you make a copy, you will be able to run the copied file through your account. You can also code your answers in the respective code cells and run the program\n",
        "\n",
        "---\n",
        "#If Conditional Statements\n",
        "Solve the below problems. \n",
        "\n",
        "\n",
        "# Problem 1\n",
        "\n",
        "Write a program that accepts an integer value from the user and prints out if the given number is a multiple of 7. If the given number is a multiple of 7 then it prints out, \"You gave a multiple of 7\" else, it prints out the remainder when you divide the given number by 7"
      ]
    },
    {
      "cell_type": "code",
      "metadata": {
        "id": "MGSvCg0RrRaL",
        "outputId": "31118acb-f931-4428-9977-e8430d1b338a",
        "colab": {
          "base_uri": "https://localhost:8080/"
        }
      },
      "source": [
        "value = int(input())\n",
        "\n",
        "if value % 7 == 0:\n",
        "  print(\"You gave a multiple of 7\")\n",
        "else:\n",
        "  print(value % 7)"
      ],
      "execution_count": 2,
      "outputs": [
        {
          "output_type": "stream",
          "name": "stdout",
          "text": [
            "5\n",
            "5\n"
          ]
        }
      ]
    },
    {
      "cell_type": "markdown",
      "metadata": {
        "id": "MvnbWG5Z7vEx"
      },
      "source": [
        "# Problem 2 (Chapter 1A revision)\n",
        "\n",
        "Write a program to solve quadratic equations. Receive the values for a, b and c from the user input. \n",
        "This problem may not need an if-construct\n",
        "Hint: Use the Math module"
      ]
    },
    {
      "cell_type": "code",
      "metadata": {
        "id": "96kEoHZb8BeT",
        "outputId": "487b5b68-822d-44b4-e350-f6226dff1c25",
        "colab": {
          "base_uri": "https://localhost:8080/"
        }
      },
      "source": [
        "# Your program goes here\n",
        "import math\n",
        "\n",
        "a = float(input(\"Enter a: \"))\n",
        "b = float(input(\"Enter b: \"))\n",
        "c = float(input(\"Enter c: \"))\n",
        "\n",
        "x1 = (-b+math.sqrt(b**2-4*a*c))/(2*a)\n",
        "x2 = (-b-math.sqrt(b**2-4*a*c))/(2*a)\n",
        "\n",
        "print(\"\\n\\nInput: %.2fx^2 + %.2fx + %.2f\\n\" %(a, b, c))\n",
        "print(\"\\nSolution: x1 = %.3f , x2 = %.3f\\n\\n\" %(x1, x2))"
      ],
      "execution_count": 7,
      "outputs": [
        {
          "output_type": "stream",
          "name": "stdout",
          "text": [
            "Enter a: 1\n",
            "Enter b: 4\n",
            "Enter c: 4\n",
            "\n",
            "\n",
            "Input: 1.00x^2 + 4.00x + 4.00\n",
            "\n",
            "\n",
            "Solution: x1 = -2.000 , x2 = -2.000\n",
            "\n",
            "\n"
          ]
        }
      ]
    },
    {
      "cell_type": "markdown",
      "metadata": {
        "id": "XClsd96sCH4d"
      },
      "source": [
        "# Problem 3\n",
        "\n",
        "Write a program to take three floating point numbers from the user and print the greatest number. For this problem, you should use if-else conditionals and not use any of the builtin functions."
      ]
    },
    {
      "cell_type": "code",
      "metadata": {
        "id": "WTCNQ0vhCXxp",
        "outputId": "76ce97c9-ce5f-409c-832b-d6af0e1f0c66",
        "colab": {
          "base_uri": "https://localhost:8080/"
        }
      },
      "source": [
        "# Your program goes here\n",
        "a = float(input(\"Enter a: \"))\n",
        "b = float(input(\"Enter b: \"))\n",
        "c = float(input(\"Enter c: \"))\n",
        "\n",
        "if a >= b and a >= c:\n",
        "  print(\"The greatest number is %f\" %(a))\n",
        "    \n",
        "elif b >= c and b >= a:\n",
        "  print(\"The greatest number is %f\" %(b))  \n",
        "\n",
        "elif c >= a and c >= b:\n",
        "  print(\"The greatest number is %f\" %(c))  "
      ],
      "execution_count": 9,
      "outputs": [
        {
          "output_type": "stream",
          "name": "stdout",
          "text": [
            "Enter a: -5\n",
            "Enter b: -6\n",
            "Enter c: -2\n",
            "The greatest number is -2.000000\n"
          ]
        }
      ]
    },
    {
      "cell_type": "markdown",
      "metadata": {
        "id": "jTtX0Al_GpQt"
      },
      "source": [
        "#Problem 4 (Chapter 1A revision)\n",
        "\n",
        "Write a program which takes three numbers as input and then print out their average.\n",
        "This problem does not need an if-construct"
      ]
    },
    {
      "cell_type": "code",
      "metadata": {
        "id": "sggoickMGz3A",
        "outputId": "041cfbb2-b3c7-4231-f71b-464a56d5a26e",
        "colab": {
          "base_uri": "https://localhost:8080/"
        }
      },
      "source": [
        "# Your program goes here\n",
        "\n",
        "a = float(input(\"Enter a: \"))\n",
        "b = float(input(\"Enter b: \"))\n",
        "c = float(input(\"Enter c: \"))\n",
        "\n",
        "average = (a + b + c) / 3\n",
        "\n",
        "print(\"The average of three numbers is %.3f\" %(average))"
      ],
      "execution_count": 11,
      "outputs": [
        {
          "output_type": "stream",
          "name": "stdout",
          "text": [
            "Enter a: 6\n",
            "Enter b: 5\n",
            "Enter c: 4\n",
            "The average of three numbers is 5.000\n"
          ]
        }
      ]
    },
    {
      "cell_type": "markdown",
      "metadata": {
        "id": "xLOfzH9uAmS2"
      },
      "source": [
        "#Problem 5\n",
        "\n",
        "Generate a random number between 10 and 20 and then ask the user to input a number between 10 and 20  \n",
        "\n",
        "If the user input matches the random number, print 'Bingo!' \n",
        "\n",
        "Else let the user know, how far away his input number is by printing how much is the difference with a positive or negative sign \n",
        "\n",
        "Hint: Check the ranint module in Modules page of Chapter 6"
      ]
    },
    {
      "cell_type": "code",
      "metadata": {
        "id": "oXfaGN4ZBWQG",
        "outputId": "a8f439c8-fcac-4b6e-dfeb-817f5a452216",
        "colab": {
          "base_uri": "https://localhost:8080/"
        }
      },
      "source": [
        "# Your program goes here\n",
        "import random\n",
        " \n",
        "# Generates a random number between\n",
        "# a given positive range\n",
        "r1 = random.randint(10, 20)\n",
        "\n",
        "r2 = int(input(\"Enter random number between 10 and 20: \"))\n",
        "\n",
        "if r1 == r2:\n",
        "  print('Bingo!')\n",
        "else:\n",
        "  print('The difference between random number and your number is %d' %(r1 - r2))"
      ],
      "execution_count": 14,
      "outputs": [
        {
          "output_type": "stream",
          "name": "stdout",
          "text": [
            "Enter randomu number between 10 and 20: 15\n",
            "The difference between random number and your number is -1\n"
          ]
        }
      ]
    }
  ]
}