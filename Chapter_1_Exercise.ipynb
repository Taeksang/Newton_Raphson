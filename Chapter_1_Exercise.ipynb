{
  "nbformat": 4,
  "nbformat_minor": 0,
  "metadata": {
    "colab": {
      "provenance": [],
      "include_colab_link": true
    },
    "kernelspec": {
      "name": "python3",
      "display_name": "Python 3"
    }
  },
  "cells": [
    {
      "cell_type": "markdown",
      "metadata": {
        "id": "view-in-github",
        "colab_type": "text"
      },
      "source": [
        "<a href=\"https://colab.research.google.com/github/Taeksang/Newton_Raphson/blob/main/Chapter_1_Exercise.ipynb\" target=\"_parent\"><img src=\"https://colab.research.google.com/assets/colab-badge.svg\" alt=\"Open In Colab\"/></a>"
      ]
    },
    {
      "cell_type": "markdown",
      "metadata": {
        "id": "Y10381Xe5fTA"
      },
      "source": [
        "# *Permission to copy this copyrighted document is given only to Mobi Boot Camp Corp., students*\n",
        "\n",
        "---\n",
        "<!-- &#169; 2021, Mobi Boot Camp Corp, all rights reserved  -->\n",
        "# Please Copy this file by selecting 'File-->Save a Copy in Drive' from the top menu bar, and then start working on these problems. You cannot edit this file as it is a READ-ONLY file. \n",
        "\n",
        "###When you make a copy, you will be able to run the copied file through your account. You can also code your answers in the respective code cells and run the program\n",
        "\n",
        "## DO NOT CHANGE THE TESTCASE CODE CELL\n",
        "\n",
        "---\n",
        "\n",
        "#First Chapter Exercises\n",
        "\n",
        "#Problem 1\n",
        "Fix the below code blocks and explain what was wrong"
      ]
    },
    {
      "cell_type": "code",
      "metadata": {
        "id": "KOnBD3bC1xfJ"
      },
      "source": [
        "# Trying to assign a String value to variable name\n",
        "name = 'Joe'"
      ],
      "execution_count": 1,
      "outputs": []
    },
    {
      "cell_type": "code",
      "metadata": {
        "id": "Ky7MUHvh5y6t"
      },
      "source": [
        "# Trying to declare a variable name and assign a literal value\n",
        "myvariable = 10"
      ],
      "execution_count": 2,
      "outputs": []
    },
    {
      "cell_type": "code",
      "metadata": {
        "id": "UAL9z9cJ53bf"
      },
      "source": [
        "# trying to assign two variables and assign String values to them\n",
        "first_name = 'John'\n",
        "last_name = \"Doe\""
      ],
      "execution_count": 3,
      "outputs": []
    },
    {
      "cell_type": "markdown",
      "metadata": {
        "id": "8sb-8QAR6dA5"
      },
      "source": [
        "#Problem 2\n",
        "The below sentence spans multiple lines. Fix the code to make it work"
      ]
    },
    {
      "cell_type": "code",
      "metadata": {
        "id": "9fnGurph6AMG",
        "colab": {
          "base_uri": "https://localhost:8080/"
        },
        "outputId": "17cd4fd1-c9d5-4fbc-a419-7e9b93fc0367"
      },
      "source": [
        "long_sentence = ' this sentence is too long to go in one line. blah blah blah  blah .  blah .  blah blah blah blah  blah .  blah .  blah blah blah blah  blah .  blah .  blah \\\n",
        "blah blah blah '\n",
        "print(long_sentence)"
      ],
      "execution_count": 4,
      "outputs": [
        {
          "output_type": "stream",
          "name": "stdout",
          "text": [
            " this sentence is too long to go in one line. blah blah blah  blah .  blah .  blah blah blah blah  blah .  blah .  blah blah blah blah  blah .  blah .  blah blah blah blah \n"
          ]
        }
      ]
    },
    {
      "cell_type": "markdown",
      "metadata": {
        "id": "76a4ydan62d_"
      },
      "source": [
        "#Problem 3\n",
        "Write code to find the data type of the variable long_sentence used in the previous Problem 2"
      ]
    },
    {
      "cell_type": "code",
      "metadata": {
        "id": "HzfBPWYNAXmM",
        "outputId": "f194d130-7a61-42d7-d72f-f0eac9b1786f",
        "colab": {
          "base_uri": "https://localhost:8080/"
        }
      },
      "source": [
        "# Your code goes here\n",
        "type(long_sentence)"
      ],
      "execution_count": 5,
      "outputs": [
        {
          "output_type": "execute_result",
          "data": {
            "text/plain": [
              "str"
            ]
          },
          "metadata": {},
          "execution_count": 5
        }
      ]
    },
    {
      "cell_type": "markdown",
      "metadata": {
        "id": "tV2jqClzAdi0"
      },
      "source": [
        "# Problem 4 \n",
        "Write a program to \n",
        "receive two decimal point numbers from the user. Multiply the numbers and show the result as the program output\n",
        "\n",
        "For e.g., if the user input 3.5 and 4.5, the output should be 15.75. \n",
        "\n",
        "**Note:** Do not assign the given example values into variables to form your solution "
      ]
    },
    {
      "cell_type": "code",
      "metadata": {
        "id": "dUqOY60QAZ4U",
        "outputId": "b4376423-5ea2-4112-c1be-eaf67ef73f6f",
        "colab": {
          "base_uri": "https://localhost:8080/"
        }
      },
      "source": [
        "# Your program goes here\n",
        "a = float(input())\n",
        "b = float(input())\n",
        "\n",
        "print(a*b)\n",
        "\n"
      ],
      "execution_count": 9,
      "outputs": [
        {
          "output_type": "stream",
          "name": "stdout",
          "text": [
            "3.5\n",
            "4.5\n",
            "15.75\n"
          ]
        }
      ]
    },
    {
      "cell_type": "markdown",
      "metadata": {
        "id": "D170k2IFJT1q"
      },
      "source": [
        "# Problem 5\n",
        "Fix the program\n",
        "\n",
        "The intent of this program is to find the mean (average) of all the numbers. However the expression is evaluating incorrectly. Please fix the expression"
      ]
    },
    {
      "cell_type": "code",
      "metadata": {
        "id": "h6fifhxAJS3_",
        "colab": {
          "base_uri": "https://localhost:8080/"
        },
        "outputId": "7d240825-6274-4b82-df56-27b1f2aa65ca"
      },
      "source": [
        "a = 10\n",
        "b = 20\n",
        "c = 30\n",
        "\n",
        "mean = (a+b+c)/3\n",
        "print(mean)"
      ],
      "execution_count": 10,
      "outputs": [
        {
          "output_type": "stream",
          "name": "stdout",
          "text": [
            "20.0\n"
          ]
        }
      ]
    },
    {
      "cell_type": "code",
      "metadata": {
        "id": "DXyMRgHs_4aR",
        "outputId": "50cdb0ed-9e4c-4964-9e1c-1b7eff18fdf8",
        "colab": {
          "base_uri": "https://localhost:8080/"
        }
      },
      "source": [
        "#TestCase \n",
        "assert ( mean == 20)\n",
        "print(\"Test passed!\")"
      ],
      "execution_count": 11,
      "outputs": [
        {
          "output_type": "stream",
          "name": "stdout",
          "text": [
            "Test passed!\n"
          ]
        }
      ]
    },
    {
      "cell_type": "markdown",
      "metadata": {
        "id": "ezlYWh2b1F2J"
      },
      "source": [
        "# Problem 6\n",
        "\n",
        "The below program is partially written. The age of a person is given in months. You have to write a program in which the 'years' contain the year part of the age and 'months' has the month part of the age. \n",
        "\n",
        "**Hint:** You have to use one or more of the arithmetic operators on the given 'age' variable to find the answers for this question. Which one will you use?"
      ]
    },
    {
      "cell_type": "code",
      "metadata": {
        "id": "4nJnp8hg1IJc"
      },
      "source": [
        "age = 220\n",
        "years = 220 // 12\n",
        "months = 220 % 12"
      ],
      "execution_count": 12,
      "outputs": []
    },
    {
      "cell_type": "code",
      "metadata": {
        "id": "PrWnQN3P1Oup",
        "outputId": "4e631360-cc58-4b71-b38c-d5a48a01c64d",
        "colab": {
          "base_uri": "https://localhost:8080/"
        }
      },
      "source": [
        "#TestCase\n",
        "assert (years == 18)\n",
        "assert (months == 4)\n",
        "print(\"Test passed!\")"
      ],
      "execution_count": 13,
      "outputs": [
        {
          "output_type": "stream",
          "name": "stdout",
          "text": [
            "Test passed!\n"
          ]
        }
      ]
    }
  ]
}